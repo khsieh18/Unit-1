{
 "cells": [
  {
   "cell_type": "markdown",
   "metadata": {},
   "source": [
    "# Lesson3-6-Challenge-Data-Cleaning-and-Validation"
   ]
  },
  {
   "cell_type": "markdown",
   "metadata": {},
   "source": [
    "### Data cleaning is definitely a \"practice makes perfect\" skill. Using this dataset of article open-access prices paid by the WELLCOME Trust between 2012 and 2013, determine the five most common journals and the total articles for each. Next, calculate the mean, median, and standard deviation of the open-access cost per article for each journal . You will need to do considerable data cleaning in order to extract accurate estimates, and may want to look into data encoding methods if you get stuck. For a real bonus round, identify the open access prices paid by subject area."
   ]
  },
  {
   "cell_type": "markdown",
   "metadata": {},
   "source": [
    "### As noted in the previous assignment, don't modify the data directly. Instead, write a cleaning script that will load the raw data and whip it into shape. Jupyter notebooks are a great format for this. Keep a record of your decisions: well-commented code is a must for recording your data cleaning decision-making progress. Submit a link to your script and results below and discuss it with your mentor at your next session."
   ]
  },
  {
   "cell_type": "code",
   "execution_count": 1,
   "metadata": {},
   "outputs": [],
   "source": [
    "import numpy as np \n",
    "import pandas as pd"
   ]
  },
  {
   "cell_type": "code",
   "execution_count": 2,
   "metadata": {
    "scrolled": true
   },
   "outputs": [
    {
     "data": {
      "text/html": [
       "<div>\n",
       "<style scoped>\n",
       "    .dataframe tbody tr th:only-of-type {\n",
       "        vertical-align: middle;\n",
       "    }\n",
       "\n",
       "    .dataframe tbody tr th {\n",
       "        vertical-align: top;\n",
       "    }\n",
       "\n",
       "    .dataframe thead th {\n",
       "        text-align: right;\n",
       "    }\n",
       "</style>\n",
       "<table border=\"1\" class=\"dataframe\">\n",
       "  <thead>\n",
       "    <tr style=\"text-align: right;\">\n",
       "      <th></th>\n",
       "      <th>PMID/PMCID</th>\n",
       "      <th>Publisher</th>\n",
       "      <th>Journal title</th>\n",
       "      <th>Article title</th>\n",
       "      <th>COST (£) charged to Wellcome (inc VAT when charged)</th>\n",
       "    </tr>\n",
       "  </thead>\n",
       "  <tbody>\n",
       "    <tr>\n",
       "      <th>0</th>\n",
       "      <td>NaN</td>\n",
       "      <td>CUP</td>\n",
       "      <td>Psychological Medicine</td>\n",
       "      <td>Reduced parahippocampal cortical thickness in ...</td>\n",
       "      <td>£0.00</td>\n",
       "    </tr>\n",
       "  </tbody>\n",
       "</table>\n",
       "</div>"
      ],
      "text/plain": [
       "  PMID/PMCID Publisher           Journal title  \\\n",
       "0        NaN       CUP  Psychological Medicine   \n",
       "\n",
       "                                       Article title  \\\n",
       "0  Reduced parahippocampal cortical thickness in ...   \n",
       "\n",
       "  COST (£) charged to Wellcome (inc VAT when charged)  \n",
       "0                                              £0.00   "
      ]
     },
     "execution_count": 2,
     "metadata": {},
     "output_type": "execute_result"
    }
   ],
   "source": [
    "# Read the dataset\n",
    "df = pd.read_csv('WELLCOME_APCspend2013_forThinkful.csv',encoding='ISO-8859-1')\n",
    "df.head(1)"
   ]
  },
  {
   "cell_type": "code",
   "execution_count": 3,
   "metadata": {},
   "outputs": [
    {
     "data": {
      "text/plain": [
       "(2127, 5)"
      ]
     },
     "execution_count": 3,
     "metadata": {},
     "output_type": "execute_result"
    }
   ],
   "source": [
    "df.shape"
   ]
  },
  {
   "cell_type": "code",
   "execution_count": 4,
   "metadata": {
    "scrolled": true
   },
   "outputs": [
    {
     "data": {
      "text/plain": [
       "PMID/PMCID                                             199\n",
       "Publisher                                                0\n",
       "Journal title                                            1\n",
       "Article title                                            0\n",
       "COST (£) charged to Wellcome (inc VAT when charged)      0\n",
       "dtype: int64"
      ]
     },
     "execution_count": 4,
     "metadata": {},
     "output_type": "execute_result"
    }
   ],
   "source": [
    "df.isnull().sum()"
   ]
  },
  {
   "cell_type": "code",
   "execution_count": 5,
   "metadata": {},
   "outputs": [],
   "source": [
    "df=df[['Journal title','Article title','COST (£) charged to Wellcome (inc VAT when charged)']]"
   ]
  },
  {
   "cell_type": "code",
   "execution_count": 6,
   "metadata": {},
   "outputs": [],
   "source": [
    "# Rename the name of the selected columns \n",
    "df.rename(columns={\n",
    "    'Journal title':'journal', 'Article title':'article',\n",
    "    'COST (£) charged to Wellcome (inc VAT when charged)':'cost'\n",
    "},inplace=True)"
   ]
  },
  {
   "cell_type": "code",
   "execution_count": 7,
   "metadata": {},
   "outputs": [
    {
     "data": {
      "text/plain": [
       "journal    1\n",
       "article    0\n",
       "cost       0\n",
       "dtype: int64"
      ]
     },
     "execution_count": 7,
     "metadata": {},
     "output_type": "execute_result"
    }
   ],
   "source": [
    "df.isnull().sum()"
   ]
  },
  {
   "cell_type": "code",
   "execution_count": 8,
   "metadata": {},
   "outputs": [],
   "source": [
    "df.dropna(subset=['journal'],inplace=True)"
   ]
  },
  {
   "cell_type": "code",
   "execution_count": 9,
   "metadata": {},
   "outputs": [
    {
     "data": {
      "text/plain": [
       "PLoS One                                           92\n",
       "PLoS ONE                                           62\n",
       "Journal of Biological Chemistry                    48\n",
       "Nucleic Acids Research                             21\n",
       "Proceedings of the National Academy of Sciences    19\n",
       "Name: journal, dtype: int64"
      ]
     },
     "execution_count": 9,
     "metadata": {},
     "output_type": "execute_result"
    }
   ],
   "source": [
    "df['journal'].value_counts(sort=True).head(5)"
   ]
  },
  {
   "cell_type": "code",
   "execution_count": 10,
   "metadata": {},
   "outputs": [
    {
     "data": {
      "text/plain": [
       "journal    object\n",
       "article    object\n",
       "cost       object\n",
       "dtype: object"
      ]
     },
     "execution_count": 10,
     "metadata": {},
     "output_type": "execute_result"
    }
   ],
   "source": [
    "df.dtypes"
   ]
  },
  {
   "cell_type": "code",
   "execution_count": 11,
   "metadata": {},
   "outputs": [],
   "source": [
    "df['cost']=df['cost'].str.replace('£','')"
   ]
  },
  {
   "cell_type": "code",
   "execution_count": 12,
   "metadata": {},
   "outputs": [
    {
     "data": {
      "text/html": [
       "<div>\n",
       "<style scoped>\n",
       "    .dataframe tbody tr th:only-of-type {\n",
       "        vertical-align: middle;\n",
       "    }\n",
       "\n",
       "    .dataframe tbody tr th {\n",
       "        vertical-align: top;\n",
       "    }\n",
       "\n",
       "    .dataframe thead th {\n",
       "        text-align: right;\n",
       "    }\n",
       "</style>\n",
       "<table border=\"1\" class=\"dataframe\">\n",
       "  <thead>\n",
       "    <tr style=\"text-align: right;\">\n",
       "      <th></th>\n",
       "      <th>journal</th>\n",
       "      <th>article</th>\n",
       "      <th>cost</th>\n",
       "    </tr>\n",
       "  </thead>\n",
       "  <tbody>\n",
       "    <tr>\n",
       "      <th>0</th>\n",
       "      <td>Psychological Medicine</td>\n",
       "      <td>Reduced parahippocampal cortical thickness in ...</td>\n",
       "      <td>0.00</td>\n",
       "    </tr>\n",
       "    <tr>\n",
       "      <th>1</th>\n",
       "      <td>Biomacromolecules</td>\n",
       "      <td>Structural characterization of a Model Gram-ne...</td>\n",
       "      <td>2381.04</td>\n",
       "    </tr>\n",
       "    <tr>\n",
       "      <th>2</th>\n",
       "      <td>J Med Chem</td>\n",
       "      <td>Fumaroylamino-4,5-epoxymorphinans and related ...</td>\n",
       "      <td>642.56</td>\n",
       "    </tr>\n",
       "    <tr>\n",
       "      <th>3</th>\n",
       "      <td>J Med Chem</td>\n",
       "      <td>Orvinols with mixed kappa/mu opioid receptor a...</td>\n",
       "      <td>669.64</td>\n",
       "    </tr>\n",
       "    <tr>\n",
       "      <th>4</th>\n",
       "      <td>J Org Chem</td>\n",
       "      <td>Regioselective opening of myo-inositol orthoes...</td>\n",
       "      <td>685.88</td>\n",
       "    </tr>\n",
       "  </tbody>\n",
       "</table>\n",
       "</div>"
      ],
      "text/plain": [
       "                  journal                                            article  \\\n",
       "0  Psychological Medicine  Reduced parahippocampal cortical thickness in ...   \n",
       "1       Biomacromolecules  Structural characterization of a Model Gram-ne...   \n",
       "2              J Med Chem  Fumaroylamino-4,5-epoxymorphinans and related ...   \n",
       "3              J Med Chem  Orvinols with mixed kappa/mu opioid receptor a...   \n",
       "4              J Org Chem  Regioselective opening of myo-inositol orthoes...   \n",
       "\n",
       "      cost  \n",
       "0     0.00  \n",
       "1  2381.04  \n",
       "2   642.56  \n",
       "3   669.64  \n",
       "4   685.88  "
      ]
     },
     "execution_count": 12,
     "metadata": {},
     "output_type": "execute_result"
    }
   ],
   "source": [
    "df.head()"
   ]
  },
  {
   "cell_type": "code",
   "execution_count": 13,
   "metadata": {},
   "outputs": [],
   "source": [
    "list_dollar=df.index[df['cost'].str.contains(\"\\$\")==True].tolist()"
   ]
  },
  {
   "cell_type": "code",
   "execution_count": 14,
   "metadata": {},
   "outputs": [],
   "source": [
    "df['cost']=df['cost'].str.replace('\\$','')"
   ]
  },
  {
   "cell_type": "code",
   "execution_count": 15,
   "metadata": {},
   "outputs": [
    {
     "data": {
      "text/plain": [
       "cost    1674\n",
       "Name: 178, dtype: object"
      ]
     },
     "execution_count": 15,
     "metadata": {},
     "output_type": "execute_result"
    }
   ],
   "source": [
    "df.loc[178,['cost']]"
   ]
  },
  {
   "cell_type": "code",
   "execution_count": 16,
   "metadata": {},
   "outputs": [],
   "source": [
    "df['cost']=pd.to_numeric(df['cost'])"
   ]
  },
  {
   "cell_type": "code",
   "execution_count": 17,
   "metadata": {},
   "outputs": [],
   "source": [
    "df['cost']=df['cost'].astype(float)"
   ]
  },
  {
   "cell_type": "code",
   "execution_count": 18,
   "metadata": {
    "scrolled": false
   },
   "outputs": [
    {
     "data": {
      "text/plain": [
       "178     1674.00\n",
       "179     1375.80\n",
       "180     2010.00\n",
       "181     1204.38\n",
       "182     1254.60\n",
       "183     1476.00\n",
       "337      671.04\n",
       "1599    1440.00\n",
       "1600    1460.30\n",
       "1601    1476.47\n",
       "1602    1570.87\n",
       "1603    1600.25\n",
       "1604    1600.25\n",
       "Name: cost, dtype: float64"
      ]
     },
     "execution_count": 18,
     "metadata": {},
     "output_type": "execute_result"
    }
   ],
   "source": [
    "df.loc[list_dollar,'cost']"
   ]
  },
  {
   "cell_type": "code",
   "execution_count": 19,
   "metadata": {},
   "outputs": [],
   "source": [
    "df.loc[list_dollar,'cost']=df.loc[list_dollar,'cost'].apply(lambda x: x*0.85)"
   ]
  },
  {
   "cell_type": "code",
   "execution_count": 20,
   "metadata": {},
   "outputs": [
    {
     "data": {
      "text/plain": [
       "journal     object\n",
       "article     object\n",
       "cost       float64\n",
       "dtype: object"
      ]
     },
     "execution_count": 20,
     "metadata": {},
     "output_type": "execute_result"
    }
   ],
   "source": [
    "df.dtypes"
   ]
  },
  {
   "cell_type": "code",
   "execution_count": 21,
   "metadata": {},
   "outputs": [
    {
     "data": {
      "text/plain": [
       "178     1422.9000\n",
       "179     1169.4300\n",
       "180     1708.5000\n",
       "181     1023.7230\n",
       "182     1066.4100\n",
       "183     1254.6000\n",
       "337      570.3840\n",
       "1599    1224.0000\n",
       "1600    1241.2550\n",
       "1601    1254.9995\n",
       "1602    1335.2395\n",
       "1603    1360.2125\n",
       "1604    1360.2125\n",
       "Name: cost, dtype: float64"
      ]
     },
     "execution_count": 21,
     "metadata": {},
     "output_type": "execute_result"
    }
   ],
   "source": [
    "df.loc[list_dollar,'cost']"
   ]
  },
  {
   "cell_type": "code",
   "execution_count": 22,
   "metadata": {},
   "outputs": [
    {
     "data": {
      "text/plain": [
       "24071.124189087488"
      ]
     },
     "execution_count": 22,
     "metadata": {},
     "output_type": "execute_result"
    }
   ],
   "source": [
    "np.mean(df['cost'])"
   ]
  },
  {
   "cell_type": "code",
   "execution_count": 23,
   "metadata": {},
   "outputs": [
    {
     "data": {
      "text/plain": [
       "1882.97"
      ]
     },
     "execution_count": 23,
     "metadata": {},
     "output_type": "execute_result"
    }
   ],
   "source": [
    "np.median(df['cost'])"
   ]
  },
  {
   "cell_type": "code",
   "execution_count": 24,
   "metadata": {},
   "outputs": [
    {
     "data": {
      "text/plain": [
       "146860.6813170135"
      ]
     },
     "execution_count": 24,
     "metadata": {},
     "output_type": "execute_result"
    }
   ],
   "source": [
    "np.std(df['cost'])"
   ]
  }
 ],
 "metadata": {
  "kernelspec": {
   "display_name": "Python 3",
   "language": "python",
   "name": "python3"
  },
  "language_info": {
   "codemirror_mode": {
    "name": "ipython",
    "version": 3
   },
   "file_extension": ".py",
   "mimetype": "text/x-python",
   "name": "python",
   "nbconvert_exporter": "python",
   "pygments_lexer": "ipython3",
   "version": "3.7.0"
  }
 },
 "nbformat": 4,
 "nbformat_minor": 2
}
