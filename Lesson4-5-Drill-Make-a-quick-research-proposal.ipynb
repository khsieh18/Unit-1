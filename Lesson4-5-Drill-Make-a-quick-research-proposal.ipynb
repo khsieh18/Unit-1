{
 "cells": [
  {
   "cell_type": "markdown",
   "metadata": {},
   "source": [
    "## DRILL: Make a quick research proposal"
   ]
  },
  {
   "cell_type": "markdown",
   "metadata": {},
   "source": [
    "### Look back to the potential experiments in the previous assignment. For one of those experiments, write up the essential points of a research proposal for an improved version of that experiment."
   ]
  },
  {
   "cell_type": "markdown",
   "metadata": {},
   "source": [
    "### The problem"
   ]
  },
  {
   "cell_type": "markdown",
   "metadata": {},
   "source": [
    "#### Will a new homepage improve my online exotic pet rental business? Homepage is the first page encountered by the site visitors. The ease of maneuvor form homepage is one of the most important factor for visitor to either leave the site or continue to next page."
   ]
  },
  {
   "cell_type": "markdown",
   "metadata": {},
   "source": [
    "### The potential solution"
   ]
  },
  {
   "cell_type": "markdown",
   "metadata": {},
   "source": [
    "The possible solution might be using large text for important information that you want visitors to pay attention to."
   ]
  },
  {
   "cell_type": "markdown",
   "metadata": {},
   "source": [
    "### The method of testing the solution"
   ]
  },
  {
   "cell_type": "markdown",
   "metadata": {},
   "source": [
    "Divide the visitors into two groups - new homepage and old homepage. If the visitor number increase over the next few month since the launch of the new homepage, we can conclude that new homepage attracts more visitors. If the number of visitors decrease or only increase by 1% or less  (this percentage number has to be compared to the history of visitor data and use the probable value), we can conclude that new homepage is not working well on attracting more traffic."
   ]
  }
 ],
 "metadata": {
  "kernelspec": {
   "display_name": "Python 3",
   "language": "python",
   "name": "python3"
  },
  "language_info": {
   "codemirror_mode": {
    "name": "ipython",
    "version": 3
   },
   "file_extension": ".py",
   "mimetype": "text/x-python",
   "name": "python",
   "nbconvert_exporter": "python",
   "pygments_lexer": "ipython3",
   "version": "3.7.0"
  }
 },
 "nbformat": 4,
 "nbformat_minor": 2
}
